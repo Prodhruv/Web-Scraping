{
 "cells": [
  {
   "cell_type": "code",
   "execution_count": 7,
   "metadata": {},
   "outputs": [],
   "source": [
    "import csv"
   ]
  },
  {
   "cell_type": "code",
   "execution_count": 8,
   "metadata": {},
   "outputs": [],
   "source": [
    "f=open(\"G:\\\\NPTL\\\\NOTES\\\\new_records.csv\",'r')"
   ]
  },
  {
   "cell_type": "code",
   "execution_count": 9,
   "metadata": {},
   "outputs": [],
   "source": [
    "row1=[]\n",
    "f.seek(0)\n",
    "csv_reader=csv.reader(f)\n",
    "for row in csv_reader:\n",
    "    row1.append(row)"
   ]
  },
  {
   "cell_type": "code",
   "execution_count": 41,
   "metadata": {},
   "outputs": [
    {
     "data": {
      "text/plain": [
       "[['emp11', 'Aakash Kumar', 'Patna', '22', 'Noida'],\n",
       " ['emp12', 'Naman Arora', 'Lucknow', '18', 'Delhi'],\n",
       " ['emp13', 'Vikas Jain', 'Bhopal', '25', 'Gurgaon'],\n",
       " ['emp14', 'Nirmal Mishra', 'Gurgaon', '21', 'Gurgaon'],\n",
       " ['emp15', 'Priya Singh', 'Gurgaon', '25', 'Delhi'],\n",
       " ['cnt17', 'Rishab Srivastava', 'Mumbai', '22', 'Noida'],\n",
       " ['emp16', 'Pravita Singh', 'Kanpur', '21', 'Delhi'],\n",
       " ['tmp18', 'Naina Gupta', 'Sonipat', '28', 'New Delhi'],\n",
       " ['cnt19', 'Jai Tiwari', 'Hyderabad', '24', 'Noida']]"
      ]
     },
     "execution_count": 41,
     "metadata": {},
     "output_type": "execute_result"
    }
   ],
   "source": [
    "row1"
   ]
  },
  {
   "cell_type": "code",
   "execution_count": 10,
   "metadata": {},
   "outputs": [
    {
     "data": {
      "text/plain": [
       "[['emp11', 'Aakash Kumar', 'Patna', '22', 'Noida'],\n",
       " ['emp12', 'Naman Arora', 'Lucknow', '18', 'Delhi'],\n",
       " ['emp13', 'Vikas Jain', 'Bhopal', '25', 'Gurgaon'],\n",
       " ['emp14', 'Nirmal Mishra', 'Gurgaon', '21', 'Gurgaon'],\n",
       " ['emp15', 'Priya Singh', 'Gurgaon', '25', 'Delhi'],\n",
       " ['cnt17', 'Rishab Srivastava', 'Mumbai', '22', 'Noida'],\n",
       " ['emp16', 'Pravita Singh', 'Kanpur', '21', 'Delhi'],\n",
       " ['tmp18', 'Naina Gupta', 'Sonipat', '28', 'New Delhi'],\n",
       " ['cnt19', 'Jai Tiwari', 'Hyderabad', '24', 'Noida']]"
      ]
     },
     "execution_count": 10,
     "metadata": {},
     "output_type": "execute_result"
    }
   ],
   "source": [
    "import re\n",
    "p=re.compile(\"emp\")\n",
    "row1"
   ]
  },
  {
   "cell_type": "code",
   "execution_count": 70,
   "metadata": {},
   "outputs": [
    {
     "ename": "ValueError",
     "evalue": "not enough values to unpack (expected 2, got 1)",
     "output_type": "error",
     "traceback": [
      "\u001b[1;31m---------------------------------------------------------------------------\u001b[0m",
      "\u001b[1;31mValueError\u001b[0m                                Traceback (most recent call last)",
      "\u001b[1;32m<ipython-input-70-a19385505891>\u001b[0m in \u001b[0;36m<module>\u001b[1;34m\u001b[0m\n\u001b[0;32m      2\u001b[0m \u001b[0mrow4\u001b[0m\u001b[1;33m=\u001b[0m\u001b[1;33m[\u001b[0m\u001b[1;33m]\u001b[0m\u001b[1;33m\u001b[0m\u001b[1;33m\u001b[0m\u001b[0m\n\u001b[0;32m      3\u001b[0m \u001b[1;32mfor\u001b[0m \u001b[0mrow\u001b[0m \u001b[1;32min\u001b[0m \u001b[0mrow1\u001b[0m\u001b[1;33m:\u001b[0m\u001b[1;33m\u001b[0m\u001b[1;33m\u001b[0m\u001b[0m\n\u001b[1;32m----> 4\u001b[1;33m     \u001b[0mx\u001b[0m\u001b[1;33m,\u001b[0m\u001b[0my\u001b[0m\u001b[1;33m=\u001b[0m\u001b[0mrow\u001b[0m\u001b[1;33m[\u001b[0m\u001b[1;36m1\u001b[0m\u001b[1;33m]\u001b[0m\u001b[1;33m.\u001b[0m\u001b[0msplit\u001b[0m\u001b[1;33m(\u001b[0m\u001b[1;34m\" \"\u001b[0m\u001b[1;33m)\u001b[0m\u001b[1;33m\u001b[0m\u001b[1;33m\u001b[0m\u001b[0m\n\u001b[0m\u001b[0;32m      5\u001b[0m     \u001b[0mrow\u001b[0m\u001b[1;33m.\u001b[0m\u001b[0mpop\u001b[0m\u001b[1;33m(\u001b[0m\u001b[1;36m1\u001b[0m\u001b[1;33m)\u001b[0m\u001b[1;33m\u001b[0m\u001b[1;33m\u001b[0m\u001b[0m\n\u001b[0;32m      6\u001b[0m     \u001b[0mrow\u001b[0m\u001b[1;33m.\u001b[0m\u001b[0minsert\u001b[0m\u001b[1;33m(\u001b[0m\u001b[1;36m1\u001b[0m\u001b[1;33m,\u001b[0m\u001b[0mx\u001b[0m\u001b[1;33m)\u001b[0m\u001b[1;33m\u001b[0m\u001b[1;33m\u001b[0m\u001b[0m\n",
      "\u001b[1;31mValueError\u001b[0m: not enough values to unpack (expected 2, got 1)"
     ]
    }
   ],
   "source": [
    "row3=[]\n",
    "row4=[]\n",
    "for row in row1:\n",
    "    x,y=row[1].split(\" \")\n",
    "    row.pop(1)\n",
    "    row.insert(1,x)\n",
    "    row.insert(2,y)\n",
    "    \n",
    "for row in row1:\n",
    "    if not (p.match(row[0])):\n",
    "        row3.append(row[4].rstrip('\\n'))\n",
    "    else:\n",
    "        row[0]=int(row[0].replace('emp',\"\"))\n",
    "        row4.append(row)"
   ]
  },
  {
   "cell_type": "code",
   "execution_count": 71,
   "metadata": {},
   "outputs": [
    {
     "data": {
      "text/plain": [
       "[]"
      ]
     },
     "execution_count": 71,
     "metadata": {},
     "output_type": "execute_result"
    }
   ],
   "source": [
    "row3"
   ]
  },
  {
   "cell_type": "code",
   "execution_count": 72,
   "metadata": {},
   "outputs": [
    {
     "ename": "NameError",
     "evalue": "name 'row2' is not defined",
     "output_type": "error",
     "traceback": [
      "\u001b[1;31m---------------------------------------------------------------------------\u001b[0m",
      "\u001b[1;31mNameError\u001b[0m                                 Traceback (most recent call last)",
      "\u001b[1;32m<ipython-input-72-6c31a19892ef>\u001b[0m in \u001b[0;36m<module>\u001b[1;34m\u001b[0m\n\u001b[1;32m----> 1\u001b[1;33m \u001b[0mr\u001b[0m\u001b[1;33m=\u001b[0m\u001b[0mrow2\u001b[0m\u001b[1;33m[\u001b[0m\u001b[1;36m0\u001b[0m\u001b[1;33m]\u001b[0m\u001b[1;33m\u001b[0m\u001b[1;33m\u001b[0m\u001b[0m\n\u001b[0m",
      "\u001b[1;31mNameError\u001b[0m: name 'row2' is not defined"
     ]
    }
   ],
   "source": [
    "r=row2[0]"
   ]
  },
  {
   "cell_type": "code",
   "execution_count": 73,
   "metadata": {},
   "outputs": [
    {
     "ename": "NameError",
     "evalue": "name 'r' is not defined",
     "output_type": "error",
     "traceback": [
      "\u001b[1;31m---------------------------------------------------------------------------\u001b[0m",
      "\u001b[1;31mNameError\u001b[0m                                 Traceback (most recent call last)",
      "\u001b[1;32m<ipython-input-73-1010f94edd03>\u001b[0m in \u001b[0;36m<module>\u001b[1;34m\u001b[0m\n\u001b[1;32m----> 1\u001b[1;33m \u001b[0mx\u001b[0m\u001b[1;33m,\u001b[0m\u001b[0my\u001b[0m\u001b[1;33m=\u001b[0m\u001b[0mr\u001b[0m\u001b[1;33m[\u001b[0m\u001b[1;36m1\u001b[0m\u001b[1;33m]\u001b[0m\u001b[1;33m.\u001b[0m\u001b[0msplit\u001b[0m\u001b[1;33m(\u001b[0m\u001b[1;34m\" \"\u001b[0m\u001b[1;33m)\u001b[0m\u001b[1;33m\u001b[0m\u001b[1;33m\u001b[0m\u001b[0m\n\u001b[0m",
      "\u001b[1;31mNameError\u001b[0m: name 'r' is not defined"
     ]
    }
   ],
   "source": [
    "x,y=r[1].split(\" \")"
   ]
  },
  {
   "cell_type": "code",
   "execution_count": 74,
   "metadata": {},
   "outputs": [
    {
     "data": {
      "text/plain": [
       "'Jai'"
      ]
     },
     "execution_count": 74,
     "metadata": {},
     "output_type": "execute_result"
    }
   ],
   "source": [
    "x"
   ]
  },
  {
   "cell_type": "code",
   "execution_count": 75,
   "metadata": {},
   "outputs": [
    {
     "data": {
      "text/plain": [
       "'Tiwari'"
      ]
     },
     "execution_count": 75,
     "metadata": {},
     "output_type": "execute_result"
    }
   ],
   "source": [
    "y"
   ]
  },
  {
   "cell_type": "code",
   "execution_count": 76,
   "metadata": {},
   "outputs": [
    {
     "ename": "NameError",
     "evalue": "name 'r' is not defined",
     "output_type": "error",
     "traceback": [
      "\u001b[1;31m---------------------------------------------------------------------------\u001b[0m",
      "\u001b[1;31mNameError\u001b[0m                                 Traceback (most recent call last)",
      "\u001b[1;32m<ipython-input-76-f5f40b9630ae>\u001b[0m in \u001b[0;36m<module>\u001b[1;34m\u001b[0m\n\u001b[1;32m----> 1\u001b[1;33m \u001b[0mr\u001b[0m\u001b[1;33m.\u001b[0m\u001b[0mpop\u001b[0m\u001b[1;33m(\u001b[0m\u001b[1;36m1\u001b[0m\u001b[1;33m)\u001b[0m\u001b[1;33m\u001b[0m\u001b[1;33m\u001b[0m\u001b[0m\n\u001b[0m",
      "\u001b[1;31mNameError\u001b[0m: name 'r' is not defined"
     ]
    }
   ],
   "source": [
    "r.pop(1)"
   ]
  },
  {
   "cell_type": "code",
   "execution_count": null,
   "metadata": {},
   "outputs": [],
   "source": [
    "r.insert(1,x)"
   ]
  },
  {
   "cell_type": "code",
   "execution_count": null,
   "metadata": {},
   "outputs": [],
   "source": [
    "r"
   ]
  },
  {
   "cell_type": "code",
   "execution_count": 77,
   "metadata": {},
   "outputs": [
    {
     "ename": "NameError",
     "evalue": "name 'r' is not defined",
     "output_type": "error",
     "traceback": [
      "\u001b[1;31m---------------------------------------------------------------------------\u001b[0m",
      "\u001b[1;31mNameError\u001b[0m                                 Traceback (most recent call last)",
      "\u001b[1;32m<ipython-input-77-40398dd2b4bd>\u001b[0m in \u001b[0;36m<module>\u001b[1;34m\u001b[0m\n\u001b[1;32m----> 1\u001b[1;33m \u001b[0mr\u001b[0m\u001b[1;33m.\u001b[0m\u001b[0minsert\u001b[0m\u001b[1;33m(\u001b[0m\u001b[1;36m2\u001b[0m\u001b[1;33m,\u001b[0m\u001b[0my\u001b[0m\u001b[1;33m)\u001b[0m\u001b[1;33m\u001b[0m\u001b[1;33m\u001b[0m\u001b[0m\n\u001b[0m",
      "\u001b[1;31mNameError\u001b[0m: name 'r' is not defined"
     ]
    }
   ],
   "source": [
    "r.insert(2,y)"
   ]
  },
  {
   "cell_type": "code",
   "execution_count": 78,
   "metadata": {},
   "outputs": [
    {
     "ename": "NameError",
     "evalue": "name 'r' is not defined",
     "output_type": "error",
     "traceback": [
      "\u001b[1;31m---------------------------------------------------------------------------\u001b[0m",
      "\u001b[1;31mNameError\u001b[0m                                 Traceback (most recent call last)",
      "\u001b[1;32m<ipython-input-78-d17ca1acc36c>\u001b[0m in \u001b[0;36m<module>\u001b[1;34m\u001b[0m\n\u001b[1;32m----> 1\u001b[1;33m \u001b[0mr\u001b[0m\u001b[1;33m\u001b[0m\u001b[1;33m\u001b[0m\u001b[0m\n\u001b[0m",
      "\u001b[1;31mNameError\u001b[0m: name 'r' is not defined"
     ]
    }
   ],
   "source": [
    "r"
   ]
  },
  {
   "cell_type": "code",
   "execution_count": 79,
   "metadata": {},
   "outputs": [
    {
     "ename": "NameError",
     "evalue": "name 'row2' is not defined",
     "output_type": "error",
     "traceback": [
      "\u001b[1;31m---------------------------------------------------------------------------\u001b[0m",
      "\u001b[1;31mNameError\u001b[0m                                 Traceback (most recent call last)",
      "\u001b[1;32m<ipython-input-79-7089c77e386e>\u001b[0m in \u001b[0;36m<module>\u001b[1;34m\u001b[0m\n\u001b[1;32m----> 1\u001b[1;33m \u001b[0mrow\u001b[0m \u001b[1;32min\u001b[0m \u001b[0mrow2\u001b[0m\u001b[1;33m\u001b[0m\u001b[1;33m\u001b[0m\u001b[0m\n\u001b[0m\u001b[0;32m      2\u001b[0m \u001b[1;33m\u001b[0m\u001b[0m\n",
      "\u001b[1;31mNameError\u001b[0m: name 'row2' is not defined"
     ]
    }
   ],
   "source": [
    "row in row2  \n",
    "    "
   ]
  },
  {
   "cell_type": "code",
   "execution_count": 80,
   "metadata": {},
   "outputs": [],
   "source": [
    "r=row[0]"
   ]
  },
  {
   "cell_type": "code",
   "execution_count": 81,
   "metadata": {},
   "outputs": [
    {
     "data": {
      "text/plain": [
       "11"
      ]
     },
     "execution_count": 81,
     "metadata": {},
     "output_type": "execute_result"
    }
   ],
   "source": [
    "r"
   ]
  },
  {
   "cell_type": "code",
   "execution_count": 82,
   "metadata": {},
   "outputs": [
    {
     "ename": "SyntaxError",
     "evalue": "invalid syntax (<ipython-input-82-bf253ee9ef07>, line 2)",
     "output_type": "error",
     "traceback": [
      "\u001b[1;36m  File \u001b[1;32m\"<ipython-input-82-bf253ee9ef07>\"\u001b[1;36m, line \u001b[1;32m2\u001b[0m\n\u001b[1;33m    print(row[])\u001b[0m\n\u001b[1;37m              ^\u001b[0m\n\u001b[1;31mSyntaxError\u001b[0m\u001b[1;31m:\u001b[0m invalid syntax\n"
     ]
    }
   ],
   "source": [
    "for row in row2:\n",
    "    print(row[])"
   ]
  },
  {
   "cell_type": "code",
   "execution_count": null,
   "metadata": {},
   "outputs": [],
   "source": [
    "for row in row3:\n",
    "    x,y=row[1].split(\" \")\n",
    "    row.pop(1)\n",
    "    row.insert(1,x)\n",
    "    row.insert(2,y)\n",
    "    "
   ]
  },
  {
   "cell_type": "code",
   "execution_count": 83,
   "metadata": {},
   "outputs": [
    {
     "data": {
      "text/plain": [
       "[]"
      ]
     },
     "execution_count": 83,
     "metadata": {},
     "output_type": "execute_result"
    }
   ],
   "source": [
    "row3"
   ]
  },
  {
   "cell_type": "code",
   "execution_count": 84,
   "metadata": {},
   "outputs": [],
   "source": [
    "for row in row4:\n",
    "    x,y=row[1].split(\" \")\n",
    "    row.pop(1)\n",
    "    row.insert(1,x)\n",
    "    row.insert(2,y)\n",
    "    "
   ]
  },
  {
   "cell_type": "code",
   "execution_count": 87,
   "metadata": {},
   "outputs": [
    {
     "data": {
      "text/plain": [
       "[]"
      ]
     },
     "execution_count": 87,
     "metadata": {},
     "output_type": "execute_result"
    }
   ],
   "source": [
    "row4"
   ]
  },
  {
   "cell_type": "code",
   "execution_count": 88,
   "metadata": {},
   "outputs": [
    {
     "data": {
      "text/plain": [
       "[]"
      ]
     },
     "execution_count": 88,
     "metadata": {},
     "output_type": "execute_result"
    }
   ],
   "source": [
    "row3"
   ]
  },
  {
   "cell_type": "code",
   "execution_count": 86,
   "metadata": {},
   "outputs": [
    {
     "data": {
      "text/plain": [
       "[]"
      ]
     },
     "execution_count": 86,
     "metadata": {},
     "output_type": "execute_result"
    }
   ],
   "source": [
    "row4"
   ]
  },
  {
   "cell_type": "code",
   "execution_count": 14,
   "metadata": {},
   "outputs": [],
   "source": [
    "f=open(\"G:\\\\NPTL\\\\NOTES\\\\employee_list.csv\",\"w\")"
   ]
  },
  {
   "cell_type": "code",
   "execution_count": 16,
   "metadata": {},
   "outputs": [],
   "source": [
    "csv_writer=csv.writer(f)"
   ]
  },
  {
   "cell_type": "code",
   "execution_count": 27,
   "metadata": {},
   "outputs": [
    {
     "name": "stdout",
     "output_type": "stream",
     "text": [
      "[11, 'Aakash', 'Kumar', 'Patna', '22', 'Noida']\n",
      "[12, 'Naman', 'Arora', 'Lucknow', '18', 'Delhi']\n",
      "[13, 'Vikas', 'Jain', 'Bhopal', '25', 'Gurgaon']\n",
      "[14, 'Nirmal', 'Mishra', 'Gurgaon', '21', 'Gurgaon']\n",
      "[15, 'Priya', 'Singh', 'Gurgaon', '25', 'Delhi']\n",
      "[16, 'Pravita', 'Singh', 'Kanpur', '21', 'Delhi']\n"
     ]
    }
   ],
   "source": [
    "for row in row4:\n",
    "    #csv_writer.writerow(row)\n",
    "    print(row)"
   ]
  },
  {
   "cell_type": "code",
   "execution_count": 32,
   "metadata": {},
   "outputs": [],
   "source": [
    "f1=open(\"G:\\\\NPTL\\\\NOTES\\\\employee_list1.csv\",\"a+\")"
   ]
  },
  {
   "cell_type": "code",
   "execution_count": 41,
   "metadata": {},
   "outputs": [],
   "source": [
    "f1=open(\"C:\\\\Users\\\\dhruv\\\\OneDrive\\\\Desktop\\\\employee_list1.csv\",\"a+\")"
   ]
  },
  {
   "cell_type": "code",
   "execution_count": 42,
   "metadata": {},
   "outputs": [],
   "source": [
    "csv_writer=csv.writer(f1)"
   ]
  },
  {
   "cell_type": "code",
   "execution_count": 66,
   "metadata": {},
   "outputs": [
    {
     "name": "stdout",
     "output_type": "stream",
     "text": [
      "[11, 'Aakash', 'Kumar', 'Patna', '22', 'Noida']\n",
      "[12, 'Naman', 'Arora', 'Lucknow', '18', 'Delhi']\n",
      "[13, 'Vikas', 'Jain', 'Bhopal', '25', 'Gurgaon']\n",
      "[14, 'Nirmal', 'Mishra', 'Gurgaon', '21', 'Gurgaon']\n",
      "[15, 'Priya', 'Singh', 'Gurgaon', '25', 'Delhi']\n",
      "[16, 'Pravita', 'Singh', 'Kanpur', '21', 'Delhi']\n"
     ]
    }
   ],
   "source": [
    "for row in row4:\n",
    "    #csv_writer.writerow(row)\n",
    "    "
   ]
  },
  {
   "cell_type": "code",
   "execution_count": 63,
   "metadata": {},
   "outputs": [
    {
     "data": {
      "text/plain": [
       "0"
      ]
     },
     "execution_count": 63,
     "metadata": {},
     "output_type": "execute_result"
    }
   ],
   "source": [
    "f1.seek(0)"
   ]
  },
  {
   "cell_type": "code",
   "execution_count": 64,
   "metadata": {},
   "outputs": [
    {
     "data": {
      "text/plain": [
       "'1,Anshika,Garg,Ranchi,21,Noida\\n2,Rohit,Awasthi,Allahabad,20,Delhi\\n11,Aakash,Kumar,Patna,22,Noida\\n\\n12,Naman,Arora,Lucknow,18,Delhi\\n\\n13,Vikas,Jain,Bhopal,25,Gurgaon\\n\\n14,Nirmal,Mishra,Gurgaon,21,Gurgaon\\n\\n15,Priya,Singh,Gurgaon,25,Delhi\\n\\n16,Pravita,Singh,Kanpur,21,Delhi\\n\\nN,o,i,d,a\\n\\nD,e,l,h,i\\n\\nG,u,r,g,a,o,n\\n\\nG,u,r,g,a,o,n\\n\\nD,e,l,h,i\\n\\nD,e,l,h,i\\n\\n11,Aakash,Kumar,Patna,22,Noida\\n\\n12,Naman,Arora,Lucknow,18,Delhi\\n\\n13,Vikas,Jain,Bhopal,25,Gurgaon\\n\\n14,Nirmal,Mishra,Gurgaon,21,Gurgaon\\n\\n15,Priya,Singh,Gurgaon,25,Delhi\\n\\n16,Pravita,Singh,Kanpur,21,Delhi\\n\\n11,Aakash,Kumar,Patna,22,Noida\\n\\n12,Naman,Arora,Lucknow,18,Delhi\\n\\n13,Vikas,Jain,Bhopal,25,Gurgaon\\n\\n14,Nirmal,Mishra,Gurgaon,21,Gurgaon\\n\\n15,Priya,Singh,Gurgaon,25,Delhi\\n\\n16,Pravita,Singh,Kanpur,21,Delhi\\n\\n11,Aakash,Kumar,Patna,22,Noida\\n\\n12,Naman,Arora,Lucknow,18,Delhi\\n\\n13,Vikas,Jain,Bhopal,25,Gurgaon\\n\\n14,Nirmal,Mishra,Gurgaon,21,Gurgaon\\n\\n15,Priya,Singh,Gurgaon,25,Delhi\\n\\n16,Pravita,Singh,Kanpur,21,Delhi\\n\\n11,Aakash,Kumar,Patna,22,Noida\\n\\n12,Naman,Arora,Lucknow,18,Delhi\\n\\n13,Vikas,Jain,Bhopal,25,Gurgaon\\n\\n14,Nirmal,Mishra,Gurgaon,21,Gurgaon\\n\\n15,Priya,Singh,Gurgaon,25,Delhi\\n\\n16,Pravita,Singh,Kanpur,21,Delhi\\n\\n'"
      ]
     },
     "execution_count": 64,
     "metadata": {},
     "output_type": "execute_result"
    }
   ],
   "source": [
    "f1.read()"
   ]
  },
  {
   "cell_type": "code",
   "execution_count": 54,
   "metadata": {},
   "outputs": [],
   "source": [
    "f1.seek(0)\n",
    "reader=csv.reader(f1)"
   ]
  },
  {
   "cell_type": "code",
   "execution_count": 50,
   "metadata": {},
   "outputs": [
    {
     "name": "stdout",
     "output_type": "stream",
     "text": [
      "['1', 'Anshika', 'Garg', 'Ranchi', '21', 'Noida']\n",
      "['2', 'Rohit', 'Awasthi', 'Allahabad', '20', 'Delhi']\n",
      "['11', 'Aakash', 'Kumar', 'Patna', '22', 'Noida']\n",
      "[]\n",
      "['12', 'Naman', 'Arora', 'Lucknow', '18', 'Delhi']\n",
      "[]\n",
      "['13', 'Vikas', 'Jain', 'Bhopal', '25', 'Gurgaon']\n",
      "[]\n",
      "['14', 'Nirmal', 'Mishra', 'Gurgaon', '21', 'Gurgaon']\n",
      "[]\n",
      "['15', 'Priya', 'Singh', 'Gurgaon', '25', 'Delhi']\n",
      "[]\n",
      "['16', 'Pravita', 'Singh', 'Kanpur', '21', 'Delhi']\n",
      "[]\n"
     ]
    }
   ],
   "source": [
    "\n",
    "for row in reader:\n",
    "    print(row)"
   ]
  },
  {
   "cell_type": "code",
   "execution_count": null,
   "metadata": {},
   "outputs": [],
   "source": []
  }
 ],
 "metadata": {
  "kernelspec": {
   "display_name": "Python 3",
   "language": "python",
   "name": "python3"
  },
  "language_info": {
   "codemirror_mode": {
    "name": "ipython",
    "version": 3
   },
   "file_extension": ".py",
   "mimetype": "text/x-python",
   "name": "python",
   "nbconvert_exporter": "python",
   "pygments_lexer": "ipython3",
   "version": "3.7.3"
  }
 },
 "nbformat": 4,
 "nbformat_minor": 2
}
