{
 "cells": [
  {
   "cell_type": "code",
   "execution_count": 3,
   "metadata": {},
   "outputs": [],
   "source": [
    "from bs4 import BeautifulSoup #import BeautifulSoup library from bs4 package\n",
    "import requests #Importing the requests library\n",
    "import csv    #Importing the csv module\n",
    "\n",
    "response=requests.get(\"https://www.imdb.com/chart/top\")#to get or retrieve data from a specified resource(https://www.imdb.com/chart/top) and store data in variable. \n",
    "soup=BeautifulSoup(response.text,'lxml')\n",
    "t=(soup.find_all(\"td\",{'class':'titleColumn'}))# Extract td tag whoese class name is \"titleColumn\" which contain movie's name ,link ,director name,year of release\n",
    "t1=soup.find_all(\"td\",{'class':'ratingColumn imdbRating'})# Ectract td tag whoese class name is \"ratingColumn\" which contains movie rating \n",
    "l1=[]# list contain  movie name ,year,director,rating,link of single movie\n",
    "l=[]# it will contain list of l\n",
    "href_1=soup.find_all(\"td\",{'class':'titleColumn'})# Extract td tag whoese class name is \"titleColumn\" which contain movie's name ,link ,director name,year of release\n",
    "j=1\n",
    "for i in range(len(t)):\n",
    "    n=t[i].get_text().split()# Extract string value contained within td tag and split it in list(n) \n",
    "    movie_name=\" \".join(n[1:len(n)-1])# list(n) contain movie name words from index 1 to length-2 join these value to get final movie name string \n",
    "    director=(\" \".join(((href_1[i].find(\"a\",recursive=True)).get(\"title\").split())[0:2]))# Extract Diractor name contained inside \"a\" tag in \"title\" attribute \n",
    "    year=int(n[len(n)-1].strip('()'))#Extract year  from  list(n) which contain year of movie relesaed at its last index \n",
    "    rating=float(t1[i].get_text())#Extract Movie rating from list(t1)\n",
    "    raw_link=href_1[i].find(\"a\",recursive=True).get(\"href\")#Extract link from list(href_1) which return only some part of  movie description link \n",
    "    l2=str(\"https://www.imdb.com%s?pf_rd_m=A2FGELUUNOQJNL&pf_rd_p=e31d89dd-322d-4646-8962-327b42fe94b1&pf_rd_r=F8C95MMK6EN0F6M44F7G&pf_rd_s=center-1&pf_rd_t=15506&pf_rd_i=top&ref_=chttp_tt_%d\"%(raw_link,j))# complete movie description link by adding remaining part present in raw_link \n",
    "    j=j+1\n",
    "    l1.append(movie_name)# Append movie name in list(l1)\n",
    "    l1.append(director)# Append movie's director in list(l1)\n",
    "    l1.append(year)# Append releseing year of movie in list(l1)\n",
    "    l1.append(rating)# Append movie rating in list(l1)\n",
    "    l1.append(l2)#Append movie description link in list(l1)\n",
    "    l.append(l1)#Append list(l1) into list of list(l)\n",
    "    l1=[]#Create a blank list so that it can store data of next movie\n",
    "\n",
    "field=['Movie Name',\n",
    "       'Director',\n",
    "      'Year of Release',\n",
    "       'Average Ratings',\n",
    "       'Link']# Header of csv file\n",
    "with open('C:\\\\Users\\\\dhruv\\\\OneDrive\\\\Desktop\\\\dhruv_webscraping.csv', 'w+', newline=\"\") as f3:# Open or create a csv file to store imbd moive data\n",
    "    writer = csv.DictWriter(f3, fieldnames = field)\n",
    "    writer.writeheader()# write header row in csv file\n",
    "    csv1_writer=csv.writer(f3)#Return a writer object responsible for converting the user’s data into delimited strings on the given file-like object. \n",
    "    for row in l:\n",
    "        csv1_writer.writerow(row)# insert movie data into csv file from list(l)\n",
    "\n"
   ]
  },
  {
   "cell_type": "code",
   "execution_count": null,
   "metadata": {},
   "outputs": [],
   "source": []
  },
  {
   "cell_type": "code",
   "execution_count": null,
   "metadata": {},
   "outputs": [],
   "source": []
  }
 ],
 "metadata": {
  "kernelspec": {
   "display_name": "Python 3",
   "language": "python",
   "name": "python3"
  },
  "language_info": {
   "codemirror_mode": {
    "name": "ipython",
    "version": 3
   },
   "file_extension": ".py",
   "mimetype": "text/x-python",
   "name": "python",
   "nbconvert_exporter": "python",
   "pygments_lexer": "ipython3",
   "version": "3.7.3"
  }
 },
 "nbformat": 4,
 "nbformat_minor": 2
}
